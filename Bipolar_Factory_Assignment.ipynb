{
 "cells": [
  {
   "cell_type": "code",
   "execution_count": 1,
   "metadata": {},
   "outputs": [],
   "source": [
    "import requests\n",
    "from bs4 import BeautifulSoup\n",
    "from newspaper import Article  \n",
    "import csv \n",
    "import pandas as pd\n",
    "import numpy as np"
   ]
  },
  {
   "cell_type": "code",
   "execution_count": null,
   "metadata": {},
   "outputs": [],
   "source": [
    "# Reading the first news article"
   ]
  },
  {
   "cell_type": "code",
   "execution_count": 12,
   "metadata": {},
   "outputs": [],
   "source": [
    "response = requests.get('http://www.bbc.co.uk/news/world')\n",
    "link = BeautifulSoup(response.text, 'html.parser')"
   ]
  },
  {
   "cell_type": "code",
   "execution_count": 13,
   "metadata": {},
   "outputs": [
    {
     "name": "stdout",
     "output_type": "stream",
     "text": [
      "['NZ begins phased exit from lockdown', 'NZ begins phased exit from lockdown', \"Trump 'can't imagine why' disinfectant calls spiked\", 'Nigeria to ease Abuja and Lagos lockdowns on 4 May', 'Notre-Dame repairs start up again amid lockdown', 'US reports civilian deaths in Somali air strike', 'Scandal-hit Luckin Coffee raided by regulators', 'Belgians urged to eat more chips in lockdown', 'NZ begins phased exit from lockdown', \"Trump 'can't imagine why' disinfectant calls spiked\", 'Nigeria to ease Abuja and Lagos lockdowns on 4 May', 'Notre-Dame repairs start up again amid lockdown', 'US reports civilian deaths in Somali air strike', 'Scandal-hit Luckin Coffee raided by regulators', 'Belgians urged to eat more chips in lockdown', \"Trump 'can't imagine why' disinfectant calls spiked\", 'Nigeria to ease Abuja and Lagos lockdowns on 4 May', 'Notre-Dame repairs start up again amid lockdown', 'US reports civilian deaths in Somali air strike', 'Scandal-hit Luckin Coffee raided by regulators', 'Belgians urged to eat more chips in lockdown', 'Argentina halts all flights until 1 September', \"Italy moves to ease Europe's longest lockdown\", 'Gridlock as Kenyan drivers await border virus test', 'Gay men abused in Morocco after photos shared', 'Major film festivals to unite for YouTube event', 'The Uber driver evicted from home and left to die', 'Helping those struggling to eat amid the lockdowns', \"The 'mystery' of India's low Covid-19 death rate\", \"Why Mexico's factories have not shut down\", 'Stressed firms look for better ways to source products', 'What Trump voters think of his handling of crisis', 'The families fostering pets during coronavirus', 'Florida pastor continues hands-on healing', 'Mourning the Sudanese doctor lost to Covid-19', \"Spain's children run free again\", 'Coronavirus immunity: Can you catch it twice?', \"Virus 'Australia's chance to grasp green energy'\", 'Why so much US resistance to lockdown?', \"The 'social bubble' approach to lockdown easing\", 'A visual guide to the economic impact', 'Scandal-hit Luckin Coffee raided by regulators', 'Argentina halts all flights until 1 September', 'Helping those struggling to eat amid the lockdowns', \"Why Mexico's factories have not shut down\", 'The Uber driver evicted from home and left to die', 'Florida pastor continues hands-on healing', \"The 'mystery' of India's low Covid-19 death rate\", 'Nigeria to ease Abuja and Lagos lockdowns on 4 May', 'More US states begin lifting virus lockdown orders', 'On, off, on again... are Trump daily briefings over?', 'How air pollution exacerbates Covid-19', 'The cash that can only be used locally', 'The city that joins three countries', 'Can a novel make you vegan?', 'How much of your body is actually you?', 'How to pandemic-proof a city', 'Could coronavirus redefine heroism?', 'News daily newsletter', 'Mobile app', 'Get in touch']\n"
     ]
    }
   ],
   "source": [
    "bbc_news_list=[]\n",
    "headlines = link.find_all('h3')\n",
    "\n",
    "for headline in headlines:\n",
    "    bbc_news_list.append(headline.text)\n",
    "print(bbc_news_list)"
   ]
  },
  {
   "cell_type": "code",
   "execution_count": null,
   "metadata": {},
   "outputs": [],
   "source": [
    "# Reading the second news article"
   ]
  },
  {
   "cell_type": "code",
   "execution_count": 14,
   "metadata": {},
   "outputs": [],
   "source": [
    "r = requests.get(\"https://timesofindia.indiatimes.com/world\")\n",
    "soup = BeautifulSoup(r.content, 'html5lib') \n",
    "table = soup.findAll('a', attrs = {'class':'w_img'})\n",
    "news=[]\n",
    "for rows in table: \n",
    "    if not rows['href'].startswith('http'):\n",
    "        news.append('https://timesofindia.indiatimes.com'+rows['href'])"
   ]
  },
  {
   "cell_type": "code",
   "execution_count": 15,
   "metadata": {},
   "outputs": [],
   "source": [
    "df=[]\n",
    "for i in news:\n",
    "    article = Article(i, language=\"en\")\n",
    "    article.download() \n",
    "    article.parse() \n",
    "    article.nlp() \n",
    "    data={}\n",
    "    data['Title']=article.title\n",
    "    df.append(data)"
   ]
  },
  {
   "cell_type": "code",
   "execution_count": 16,
   "metadata": {},
   "outputs": [
    {
     "data": {
      "text/html": [
       "<div>\n",
       "<style scoped>\n",
       "    .dataframe tbody tr th:only-of-type {\n",
       "        vertical-align: middle;\n",
       "    }\n",
       "\n",
       "    .dataframe tbody tr th {\n",
       "        vertical-align: top;\n",
       "    }\n",
       "\n",
       "    .dataframe thead th {\n",
       "        text-align: right;\n",
       "    }\n",
       "</style>\n",
       "<table border=\"1\" class=\"dataframe\">\n",
       "  <thead>\n",
       "    <tr style=\"text-align: right;\">\n",
       "      <th></th>\n",
       "      <th>Title</th>\n",
       "    </tr>\n",
       "  </thead>\n",
       "  <tbody>\n",
       "    <tr>\n",
       "      <th>0</th>\n",
       "      <td>Brazil's Supreme Court authorizes investigatio...</td>\n",
       "    </tr>\n",
       "    <tr>\n",
       "      <th>1</th>\n",
       "      <td>Covid-19: Mayor entertains residents after imp...</td>\n",
       "    </tr>\n",
       "    <tr>\n",
       "      <th>2</th>\n",
       "      <td>UK PM Boris Johnson returns to work after reco...</td>\n",
       "    </tr>\n",
       "    <tr>\n",
       "      <th>3</th>\n",
       "      <td>1 officer dead, 1 wounded in Louisiana shooting</td>\n",
       "    </tr>\n",
       "    <tr>\n",
       "      <th>4</th>\n",
       "      <td>Covid-19: Lockdown reveals fresh and clean air...</td>\n",
       "    </tr>\n",
       "  </tbody>\n",
       "</table>\n",
       "</div>"
      ],
      "text/plain": [
       "                                               Title\n",
       "0  Brazil's Supreme Court authorizes investigatio...\n",
       "1  Covid-19: Mayor entertains residents after imp...\n",
       "2  UK PM Boris Johnson returns to work after reco...\n",
       "3    1 officer dead, 1 wounded in Louisiana shooting\n",
       "4  Covid-19: Lockdown reveals fresh and clean air..."
      ]
     },
     "execution_count": 16,
     "metadata": {},
     "output_type": "execute_result"
    }
   ],
   "source": [
    "data=pd.DataFrame(df)\n",
    "data.head()"
   ]
  },
  {
   "cell_type": "code",
   "execution_count": 20,
   "metadata": {},
   "outputs": [
    {
     "data": {
      "text/plain": [
       "[\"Brazil's Supreme Court authorizes investigation of President Jair Bolsonaro\",\n",
       " 'Covid-19: Mayor entertains residents after imposing curfew',\n",
       " 'UK PM Boris Johnson returns to work after recovering from virus',\n",
       " '1 officer dead, 1 wounded in Louisiana shooting',\n",
       " 'Covid-19: Lockdown reveals fresh and clean air in India',\n",
       " \"Iran's Guard says it launched satellite\",\n",
       " 'Covid-19: Virus shutdown shows human impact on Earth',\n",
       " 'San Francisco: Dog stolen in December has joyous reunion with owner',\n",
       " 'Crude Oil prices drop to historic lows after extreme collapse in demand',\n",
       " 'Covid-19: Los Angeles study indicates higher infection rate',\n",
       " \"Covid-19: President Trump says 'politics' is behind testing criticism\",\n",
       " 'Biden accuser spoke to neighbor of alleged assault: Report',\n",
       " 'Balakot strike, abrogation of Article 370 to have lasting imprint on geopolitical situation: Bajwa',\n",
       " 'Covid-19: India hands over HCQ tablets, emergency medical gear to Bangladesh',\n",
       " 'Boris Johnson back at work, warns against relaxing coronavirus restrictions',\n",
       " 'France coronavirus death toll goes beyond 23,000',\n",
       " \"China's day of reckoning is coming: Global experts\",\n",
       " 'Saudi Arabia record 1,289 COVID-19 cases in 24 hours',\n",
       " \"Brazil's Supreme Court authorizes investigation of President Jair Bolsonaro\",\n",
       " 'Man tries to smuggle girlfriend in car trunk during lockdown',\n",
       " 'Trump nominates Indian-American as US envoy to OECD',\n",
       " 'Indian national killed in road accident in Singapore',\n",
       " 'Indian-American lawyer Seema Nanda to step down as CEO of Democratic Party',\n",
       " 'Indian-American woman elected to American Academy of Arts and Sciences',\n",
       " 'Coronavirus: Indian-American NGO raises $1 million for relief work in US, India',\n",
       " 'Indian-origin doctor honoured for her services in fighting Coronavirus in US',\n",
       " 'Indian-origin man charged with coronavirus related offences in Singapore',\n",
       " \"Indian-origin Nobel laureate Venki Ramakrishnan in UK's Covid-19 expert group\",\n",
       " 'Covid-19: Cops above 55 asked to go on leave in Mumbai',\n",
       " 'Kanika Kapoor wants to donate her blood and plasma for the treatment of COVID-19 patients',\n",
       " 'This throwback picture of Ranbir Kapoor and Mahira Khan smoking on the streets of NYC is going viral yet again!',\n",
       " 'Popular Google Doodle Games: Stay and play at home with popular past Google Doodles: Cricket',\n",
       " 'Covid-19 lockdown: This UP cop sings to warn violators']"
      ]
     },
     "execution_count": 20,
     "metadata": {},
     "output_type": "execute_result"
    }
   ],
   "source": [
    "title = data[\"Title\"].values\n",
    "toi_list=title.tolist()\n",
    "toi_list"
   ]
  },
  {
   "cell_type": "markdown",
   "metadata": {},
   "source": [
    "using nltk to identify which news have chances to be more viral\n",
    "- tfidf : used to quantify the word in the document and remove the stop words.\n",
    "- porterstemmer : used to bring the words to the stem of their words.\n",
    "- word_tokenize : used to lowercase all the words and remove punctuatuions in the sentences."
   ]
  },
  {
   "cell_type": "code",
   "execution_count": 56,
   "metadata": {},
   "outputs": [],
   "source": [
    "import nltk, string\n",
    "from sklearn.feature_extraction.text import TfidfVectorizer\n",
    "\n",
    "stemmer = nltk.stem.porter.PorterStemmer()\n",
    "remove_punctuation_map = dict((ord(char), None) for char in string.punctuation)\n",
    "\n",
    "def stem_tokens(tokens):\n",
    "    return [stemmer.stem(item) for item in tokens]\n",
    "\n",
    "def normalize(text):\n",
    "    return stem_tokens(nltk.word_tokenize(text.lower().translate(remove_punctuation_map)))\n",
    "\n",
    "vectorizer = TfidfVectorizer(tokenizer=normalize, stop_words='english')"
   ]
  },
  {
   "cell_type": "code",
   "execution_count": null,
   "metadata": {},
   "outputs": [],
   "source": [
    "# Function to take in the two vectors to be compared using tfidf"
   ]
  },
  {
   "cell_type": "code",
   "execution_count": 57,
   "metadata": {},
   "outputs": [],
   "source": [
    "def cosine(text1, text2):\n",
    "    tfidf = vectorizer.fit_transform([text1, text2])\n",
    "    return ((tfidf * tfidf.T).A)[0,1]"
   ]
  },
  {
   "cell_type": "code",
   "execution_count": null,
   "metadata": {},
   "outputs": [],
   "source": [
    "# Passing the lists to the functions"
   ]
  },
  {
   "cell_type": "code",
   "execution_count": 58,
   "metadata": {},
   "outputs": [
    {
     "data": {
      "text/plain": [
       "[\"brazil's supreme court authorizes investigation of president jair bolsonaro\",\n",
       " 'covid-19: mayor entertains residents after imposing curfew',\n",
       " 'uk pm boris johnson returns to work after recovering from viru',\n",
       " '1 officer dead, 1 wounded in louisiana shoot',\n",
       " 'covid-19: lockdown reveals fresh and clean air in india',\n",
       " \"iran's guard says it launched satellit\",\n",
       " 'covid-19: virus shutdown shows human impact on earth',\n",
       " 'san francisco: dog stolen in december has joyous reunion with own',\n",
       " 'crude oil prices drop to historic lows after extreme collapse in demand',\n",
       " 'covid-19: los angeles study indicates higher infection r',\n",
       " \"covid-19: president trump says 'politics' is behind testing critic\",\n",
       " 'biden accuser spoke to neighbor of alleged assault: report',\n",
       " 'balakot strike, abrogation of article 370 to have lasting imprint on geopolitical situation: bajwa',\n",
       " 'covid-19: india hands over hcq tablets, emergency medical gear to bangladesh',\n",
       " 'boris johnson back at work, warns against relaxing coronavirus restrict',\n",
       " 'france coronavirus death toll goes beyond 23,000',\n",
       " \"china's day of reckoning is coming: global expert\",\n",
       " 'saudi arabia record 1,289 covid-19 cases in 24 hour',\n",
       " \"brazil's supreme court authorizes investigation of president jair bolsonaro\",\n",
       " 'man tries to smuggle girlfriend in car trunk during lockdown',\n",
       " 'trump nominates indian-american as us envoy to oecd',\n",
       " 'indian national killed in road accident in singapor',\n",
       " 'indian-american lawyer seema nanda to step down as ceo of democratic parti',\n",
       " 'indian-american woman elected to american academy of arts and sci',\n",
       " 'coronavirus: indian-american ngo raises $1 million for relief work in us, india',\n",
       " 'indian-origin doctor honoured for her services in fighting coronavirus in u',\n",
       " 'indian-origin man charged with coronavirus related offences in singapor',\n",
       " \"indian-origin nobel laureate venki ramakrishnan in uk's covid-19 expert group\",\n",
       " 'covid-19: cops above 55 asked to go on leave in mumbai',\n",
       " 'kanika kapoor wants to donate her blood and plasma for the treatment of covid-19 pati',\n",
       " 'this throwback picture of ranbir kapoor and mahira khan smoking on the streets of nyc is going viral yet again!',\n",
       " 'popular google doodle games: stay and play at home with popular past google doodles: cricket',\n",
       " 'covid-19 lockdown: this up cop sings to warn viol']"
      ]
     },
     "execution_count": 58,
     "metadata": {},
     "output_type": "execute_result"
    }
   ],
   "source": [
    "stem_tokens(bbc_news_list)\n",
    "stem_tokens(toi_list)"
   ]
  },
  {
   "cell_type": "code",
   "execution_count": null,
   "metadata": {},
   "outputs": [],
   "source": [
    "# creating a dict to check the two articles and compare the likelyhood"
   ]
  },
  {
   "cell_type": "code",
   "execution_count": 59,
   "metadata": {},
   "outputs": [
    {
     "name": "stderr",
     "output_type": "stream",
     "text": [
      "C:\\Users\\admin\\Anaconda3\\lib\\site-packages\\sklearn\\feature_extraction\\text.py:301: UserWarning: Your stop_words may be inconsistent with your preprocessing. Tokenizing the stop words generated tokens ['abov', 'afterward', 'alon', 'alreadi', 'alway', 'ani', 'anoth', 'anyon', 'anyth', 'anywher', 'becam', 'becaus', 'becom', 'befor', 'besid', 'cri', 'describ', 'dure', 'els', 'elsewher', 'empti', 'everi', 'everyon', 'everyth', 'everywher', 'fifti', 'formerli', 'forti', 'ha', 'henc', 'hereaft', 'herebi', 'hi', 'howev', 'hundr', 'inde', 'latterli', 'mani', 'meanwhil', 'moreov', 'mostli', 'nobodi', 'noon', 'noth', 'nowher', 'onc', 'onli', 'otherwis', 'ourselv', 'perhap', 'pleas', 'seriou', 'sever', 'sinc', 'sincer', 'sixti', 'someon', 'someth', 'sometim', 'somewher', 'themselv', 'thenc', 'thereaft', 'therebi', 'therefor', 'thi', 'thu', 'togeth', 'twelv', 'twenti', 'veri', 'wa', 'whatev', 'whenc', 'whenev', 'wherea', 'whereaft', 'wherebi', 'wherev', 'whi', 'yourselv'] not in stop_words.\n",
      "  'stop_words.' % sorted(inconsistent))\n"
     ]
    }
   ],
   "source": [
    "dic1={}\n",
    "n=0\n",
    "for i in range(len(bbc_news_list)):\n",
    "    for j in range(len(toi_list)):\n",
    "        dic1[(cosine(bbc_news_list[i-1],toi_list[j-1]))]=bbc_news_list[i-1]"
   ]
  },
  {
   "cell_type": "code",
   "execution_count": null,
   "metadata": {},
   "outputs": [],
   "source": [
    "# Creating a dataframe out of those two article results and checking the likelyhood of it getting viral"
   ]
  },
  {
   "cell_type": "code",
   "execution_count": 61,
   "metadata": {},
   "outputs": [],
   "source": [
    "news_df = pd.DataFrame(list(dic1.items()),columns = ['Similarity','News'])"
   ]
  },
  {
   "cell_type": "code",
   "execution_count": 62,
   "metadata": {},
   "outputs": [
    {
     "data": {
      "text/html": [
       "<div>\n",
       "<style scoped>\n",
       "    .dataframe tbody tr th:only-of-type {\n",
       "        vertical-align: middle;\n",
       "    }\n",
       "\n",
       "    .dataframe tbody tr th {\n",
       "        vertical-align: top;\n",
       "    }\n",
       "\n",
       "    .dataframe thead th {\n",
       "        text-align: right;\n",
       "    }\n",
       "</style>\n",
       "<table border=\"1\" class=\"dataframe\">\n",
       "  <thead>\n",
       "    <tr style=\"text-align: right;\">\n",
       "      <th></th>\n",
       "      <th>Similarity</th>\n",
       "      <th>News</th>\n",
       "    </tr>\n",
       "  </thead>\n",
       "  <tbody>\n",
       "    <tr>\n",
       "      <th>0</th>\n",
       "      <td>0.000000</td>\n",
       "      <td>Mobile app</td>\n",
       "    </tr>\n",
       "    <tr>\n",
       "      <th>1</th>\n",
       "      <td>0.093495</td>\n",
       "      <td>Helping those struggling to eat amid the lockd...</td>\n",
       "    </tr>\n",
       "    <tr>\n",
       "      <th>2</th>\n",
       "      <td>0.087044</td>\n",
       "      <td>Helping those struggling to eat amid the lockd...</td>\n",
       "    </tr>\n",
       "    <tr>\n",
       "      <th>3</th>\n",
       "      <td>0.112343</td>\n",
       "      <td>Trump 'can't imagine why' disinfectant calls s...</td>\n",
       "    </tr>\n",
       "    <tr>\n",
       "      <th>4</th>\n",
       "      <td>0.084580</td>\n",
       "      <td>More US states begin lifting virus lockdown or...</td>\n",
       "    </tr>\n",
       "  </tbody>\n",
       "</table>\n",
       "</div>"
      ],
      "text/plain": [
       "   Similarity                                               News\n",
       "0    0.000000                                         Mobile app\n",
       "1    0.093495  Helping those struggling to eat amid the lockd...\n",
       "2    0.087044  Helping those struggling to eat amid the lockd...\n",
       "3    0.112343  Trump 'can't imagine why' disinfectant calls s...\n",
       "4    0.084580  More US states begin lifting virus lockdown or..."
      ]
     },
     "execution_count": 62,
     "metadata": {},
     "output_type": "execute_result"
    }
   ],
   "source": [
    "news_df.head()"
   ]
  },
  {
   "cell_type": "code",
   "execution_count": 63,
   "metadata": {},
   "outputs": [],
   "source": [
    "news_df=news_df.groupby(['News']).mean()"
   ]
  },
  {
   "cell_type": "code",
   "execution_count": 68,
   "metadata": {},
   "outputs": [],
   "source": [
    "news_df = news_df.sort_values(['Similarity'], ascending=[False])"
   ]
  },
  {
   "cell_type": "code",
   "execution_count": null,
   "metadata": {},
   "outputs": [],
   "source": [
    "# Below is the final result"
   ]
  },
  {
   "cell_type": "code",
   "execution_count": 69,
   "metadata": {
    "scrolled": true
   },
   "outputs": [
    {
     "data": {
      "text/html": [
       "<div>\n",
       "<style scoped>\n",
       "    .dataframe tbody tr th:only-of-type {\n",
       "        vertical-align: middle;\n",
       "    }\n",
       "\n",
       "    .dataframe tbody tr th {\n",
       "        vertical-align: top;\n",
       "    }\n",
       "\n",
       "    .dataframe thead th {\n",
       "        text-align: right;\n",
       "    }\n",
       "</style>\n",
       "<table border=\"1\" class=\"dataframe\">\n",
       "  <thead>\n",
       "    <tr style=\"text-align: right;\">\n",
       "      <th></th>\n",
       "      <th>Similarity</th>\n",
       "    </tr>\n",
       "    <tr>\n",
       "      <th>News</th>\n",
       "      <th></th>\n",
       "    </tr>\n",
       "  </thead>\n",
       "  <tbody>\n",
       "    <tr>\n",
       "      <th>On, off, on again... are Trump daily briefings over?</th>\n",
       "      <td>0.150640</td>\n",
       "    </tr>\n",
       "    <tr>\n",
       "      <th>The 'mystery' of India's low Covid-19 death rate</th>\n",
       "      <td>0.147236</td>\n",
       "    </tr>\n",
       "    <tr>\n",
       "      <th>Argentina halts all flights until 1 September</th>\n",
       "      <td>0.130861</td>\n",
       "    </tr>\n",
       "    <tr>\n",
       "      <th>How air pollution exacerbates Covid-19</th>\n",
       "      <td>0.130098</td>\n",
       "    </tr>\n",
       "    <tr>\n",
       "      <th>Could coronavirus redefine heroism?</th>\n",
       "      <td>0.123762</td>\n",
       "    </tr>\n",
       "    <tr>\n",
       "      <th>Why so much US resistance to lockdown?</th>\n",
       "      <td>0.116718</td>\n",
       "    </tr>\n",
       "    <tr>\n",
       "      <th>Trump 'can't imagine why' disinfectant calls spiked</th>\n",
       "      <td>0.112343</td>\n",
       "    </tr>\n",
       "    <tr>\n",
       "      <th>Mourning the Sudanese doctor lost to Covid-19</th>\n",
       "      <td>0.091699</td>\n",
       "    </tr>\n",
       "    <tr>\n",
       "      <th>The 'social bubble' approach to lockdown easing</th>\n",
       "      <td>0.090270</td>\n",
       "    </tr>\n",
       "    <tr>\n",
       "      <th>Helping those struggling to eat amid the lockdowns</th>\n",
       "      <td>0.090270</td>\n",
       "    </tr>\n",
       "    <tr>\n",
       "      <th>More US states begin lifting virus lockdown orders</th>\n",
       "      <td>0.085088</td>\n",
       "    </tr>\n",
       "    <tr>\n",
       "      <th>Gridlock as Kenyan drivers await border virus test</th>\n",
       "      <td>0.075125</td>\n",
       "    </tr>\n",
       "    <tr>\n",
       "      <th>The Uber driver evicted from home and left to die</th>\n",
       "      <td>0.051563</td>\n",
       "    </tr>\n",
       "    <tr>\n",
       "      <th>Mobile app</th>\n",
       "      <td>0.000000</td>\n",
       "    </tr>\n",
       "  </tbody>\n",
       "</table>\n",
       "</div>"
      ],
      "text/plain": [
       "                                                    Similarity\n",
       "News                                                          \n",
       "On, off, on again... are Trump daily briefings ...    0.150640\n",
       "The 'mystery' of India's low Covid-19 death rate      0.147236\n",
       "Argentina halts all flights until 1 September         0.130861\n",
       "How air pollution exacerbates Covid-19                0.130098\n",
       "Could coronavirus redefine heroism?                   0.123762\n",
       "Why so much US resistance to lockdown?                0.116718\n",
       "Trump 'can't imagine why' disinfectant calls sp...    0.112343\n",
       "Mourning the Sudanese doctor lost to Covid-19         0.091699\n",
       "The 'social bubble' approach to lockdown easing       0.090270\n",
       "Helping those struggling to eat amid the lockdowns    0.090270\n",
       "More US states begin lifting virus lockdown orders    0.085088\n",
       "Gridlock as Kenyan drivers await border virus test    0.075125\n",
       "The Uber driver evicted from home and left to die     0.051563\n",
       "Mobile app                                            0.000000"
      ]
     },
     "execution_count": 69,
     "metadata": {},
     "output_type": "execute_result"
    }
   ],
   "source": [
    "news_df"
   ]
  }
 ],
 "metadata": {
  "kernelspec": {
   "display_name": "Python 3",
   "language": "python",
   "name": "python3"
  },
  "language_info": {
   "codemirror_mode": {
    "name": "ipython",
    "version": 3
   },
   "file_extension": ".py",
   "mimetype": "text/x-python",
   "name": "python",
   "nbconvert_exporter": "python",
   "pygments_lexer": "ipython3",
   "version": "3.7.3"
  }
 },
 "nbformat": 4,
 "nbformat_minor": 2
}
